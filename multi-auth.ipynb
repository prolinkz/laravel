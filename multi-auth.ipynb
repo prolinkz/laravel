##

### Create Project
create project folder, enter into fordel and select the folder address bar and then write <code> cmd </code>  The command propmt will open.

Once the lab is ready to start work, we first need a project name (Directory to save project files). So first we run the Laravel then create a new project.

Run Laravel Globally via command <code> composer global require laravel/installer </code>  

Now write the artissan command to create a new project <code> laravel new project_name </code>

Enter into the project file via <code> cd example-app </code>

Run the Project via <code> php artisan serve </code> this will start the project to browse


#### lara

### Signin

### Register

