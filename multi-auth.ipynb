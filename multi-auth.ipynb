##

### Create Project
create project folder, enter into fordel and select the folder address bar and then write <code> cmd </code>  The command propmt will open.

Once the lab is ready to start work, we first need a project name (Directory to save project files). So first we run the Laravel then create a new project.

Run Laravel Globally via command <code> composer global require laravel/installer </code>  
composer create-project --prefer-dist laravel/laravel larainfo

Now write the artissan command to create a new project <code> laravel new project_name </code>

Enter into the project file via <code> cd example-app </code>

Run the Project via <code> php artisan serve </code> this will start the project to browse

### Step 2: Set Up Database Details in ENV
Now, you have to connect the laravel app to the database, hence open the .env configuration file and add the database credentials as suggested below.

.env

```
DB_CONNECTION=mysql
DB_HOST=127.0.0.1
DB_PORT=3306
DB_DATABASE=database_name
DB_USERNAME=database_user_name
DB_PASSWORD=database_password
```

### Step 3: Install Laravel UI
Next, you need to run below command in your terminal
```
composer require laravel/ui
```
### Step 4: Step up Auth Scaffolding
use anyone for you requirements

```
php artisan ui bootstrap --auth
php artisan ui vue --auth
php artisan ui react --auth
```

### Step 5: Run npm install && npm run dev command
you need to install first node npm if you do not have node npm package then install first other wise Laravel mix not working .

```
npm install && npm run dev
```

### Step 6: Migrate your database
Next,run this command
```
php artisan migrate
```



#### lara

### Signin

### Register

